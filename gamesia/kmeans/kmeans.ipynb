{
 "cells": [
  {
   "cell_type": "markdown",
   "id": "2297a959",
   "metadata": {},
   "source": [
    "# K-Means"
   ]
  },
  {
   "cell_type": "code",
   "execution_count": 1,
   "id": "0d51ae94",
   "metadata": {},
   "outputs": [
    {
     "name": "stdout",
     "output_type": "stream",
     "text": [
      "Requirement already satisfied: kneed in c:\\programdata\\anaconda3\\lib\\site-packages (0.7.0)\n",
      "Requirement already satisfied: scipy in c:\\programdata\\anaconda3\\lib\\site-packages (from kneed) (1.7.1)\n",
      "Requirement already satisfied: numpy>=1.14.2 in c:\\programdata\\anaconda3\\lib\\site-packages (from kneed) (1.20.3)\n",
      "Requirement already satisfied: matplotlib in c:\\programdata\\anaconda3\\lib\\site-packages (from kneed) (3.4.3)\n",
      "Requirement already satisfied: pyparsing>=2.2.1 in c:\\programdata\\anaconda3\\lib\\site-packages (from matplotlib->kneed) (3.0.4)\n",
      "Requirement already satisfied: python-dateutil>=2.7 in c:\\programdata\\anaconda3\\lib\\site-packages (from matplotlib->kneed) (2.8.2)\n",
      "Requirement already satisfied: cycler>=0.10 in c:\\programdata\\anaconda3\\lib\\site-packages (from matplotlib->kneed) (0.10.0)\n",
      "Requirement already satisfied: kiwisolver>=1.0.1 in c:\\programdata\\anaconda3\\lib\\site-packages (from matplotlib->kneed) (1.3.1)\n",
      "Requirement already satisfied: pillow>=6.2.0 in c:\\programdata\\anaconda3\\lib\\site-packages (from matplotlib->kneed) (8.4.0)\n",
      "Requirement already satisfied: six in c:\\programdata\\anaconda3\\lib\\site-packages (from cycler>=0.10->matplotlib->kneed) (1.16.0)\n"
     ]
    }
   ],
   "source": [
    "!pip install kneed"
   ]
  },
  {
   "cell_type": "code",
   "execution_count": 22,
   "id": "fe185fba",
   "metadata": {},
   "outputs": [],
   "source": [
    "import numpy as np\n",
    "import pandas as pd\n",
    "import matplotlib.py\n",
    "\n",
    "df = pd.read_csv('../all_games.csv', encoding='utf-8')"
   ]
  },
  {
   "cell_type": "code",
   "execution_count": 5,
   "id": "e33ca06e",
   "metadata": {},
   "outputs": [
    {
     "name": "stderr",
     "output_type": "stream",
     "text": [
      "C:\\Users\\LUCASP~1\\AppData\\Local\\Temp/ipykernel_20004/3843590146.py:4: DeprecationWarning: `np.float` is a deprecated alias for the builtin `float`. To silence this warning, use `float` by itself. Doing this will not modify any behavior and is safe. If you specifically wanted the numpy scalar type, use `np.float64` here.\n",
      "Deprecated in NumPy 1.20; for more details and guidance: https://numpy.org/devdocs/release/1.20.0-notes.html#deprecations\n",
      "  df['user_review'] = df['user_review'].astype(np.float)\n"
     ]
    }
   ],
   "source": [
    "df[df['user_review']=='tbd']\n",
    "\n",
    "df = df.drop(df[df['user_review'] == 'tbd'].index)\n",
    "df['user_review'] = df['user_review'].astype(np.float)"
   ]
  },
  {
   "cell_type": "code",
   "execution_count": 7,
   "id": "364fe548",
   "metadata": {},
   "outputs": [],
   "source": [
    "df['release_date'] = pd.to_datetime(df['release_date'])\n"
   ]
  },
  {
   "cell_type": "code",
   "execution_count": 8,
   "id": "59fe6149",
   "metadata": {},
   "outputs": [
    {
     "data": {
      "text/html": [
       "<div>\n",
       "<style scoped>\n",
       "    .dataframe tbody tr th:only-of-type {\n",
       "        vertical-align: middle;\n",
       "    }\n",
       "\n",
       "    .dataframe tbody tr th {\n",
       "        vertical-align: top;\n",
       "    }\n",
       "\n",
       "    .dataframe thead th {\n",
       "        text-align: right;\n",
       "    }\n",
       "</style>\n",
       "<table border=\"1\" class=\"dataframe\">\n",
       "  <thead>\n",
       "    <tr style=\"text-align: right;\">\n",
       "      <th></th>\n",
       "      <th>name</th>\n",
       "      <th>platform</th>\n",
       "      <th>release_date</th>\n",
       "      <th>summary</th>\n",
       "      <th>meta_score</th>\n",
       "      <th>user_review</th>\n",
       "      <th>year</th>\n",
       "    </tr>\n",
       "  </thead>\n",
       "  <tbody>\n",
       "    <tr>\n",
       "      <th>0</th>\n",
       "      <td>The Legend of Zelda: Ocarina of Time</td>\n",
       "      <td>Nintendo 64</td>\n",
       "      <td>1998-11-23</td>\n",
       "      <td>As a young boy, Link is tricked by Ganondorf, ...</td>\n",
       "      <td>99</td>\n",
       "      <td>9.1</td>\n",
       "      <td>1998</td>\n",
       "    </tr>\n",
       "    <tr>\n",
       "      <th>1</th>\n",
       "      <td>Tony Hawk's Pro Skater 2</td>\n",
       "      <td>PlayStation</td>\n",
       "      <td>2000-09-20</td>\n",
       "      <td>As most major publishers' development efforts ...</td>\n",
       "      <td>98</td>\n",
       "      <td>7.4</td>\n",
       "      <td>2000</td>\n",
       "    </tr>\n",
       "    <tr>\n",
       "      <th>2</th>\n",
       "      <td>Grand Theft Auto IV</td>\n",
       "      <td>PlayStation 3</td>\n",
       "      <td>2008-04-29</td>\n",
       "      <td>[Metacritic's 2008 PS3 Game of the Year; Also ...</td>\n",
       "      <td>98</td>\n",
       "      <td>7.7</td>\n",
       "      <td>2008</td>\n",
       "    </tr>\n",
       "    <tr>\n",
       "      <th>3</th>\n",
       "      <td>SoulCalibur</td>\n",
       "      <td>Dreamcast</td>\n",
       "      <td>1999-09-08</td>\n",
       "      <td>This is a tale of souls and swords, transcendi...</td>\n",
       "      <td>98</td>\n",
       "      <td>8.4</td>\n",
       "      <td>1999</td>\n",
       "    </tr>\n",
       "    <tr>\n",
       "      <th>4</th>\n",
       "      <td>Grand Theft Auto IV</td>\n",
       "      <td>Xbox 360</td>\n",
       "      <td>2008-04-29</td>\n",
       "      <td>[Metacritic's 2008 Xbox 360 Game of the Year; ...</td>\n",
       "      <td>98</td>\n",
       "      <td>7.9</td>\n",
       "      <td>2008</td>\n",
       "    </tr>\n",
       "  </tbody>\n",
       "</table>\n",
       "</div>"
      ],
      "text/plain": [
       "                                   name        platform release_date  \\\n",
       "0  The Legend of Zelda: Ocarina of Time     Nintendo 64   1998-11-23   \n",
       "1              Tony Hawk's Pro Skater 2     PlayStation   2000-09-20   \n",
       "2                   Grand Theft Auto IV   PlayStation 3   2008-04-29   \n",
       "3                           SoulCalibur       Dreamcast   1999-09-08   \n",
       "4                   Grand Theft Auto IV        Xbox 360   2008-04-29   \n",
       "\n",
       "                                             summary  meta_score  user_review  \\\n",
       "0  As a young boy, Link is tricked by Ganondorf, ...          99          9.1   \n",
       "1  As most major publishers' development efforts ...          98          7.4   \n",
       "2  [Metacritic's 2008 PS3 Game of the Year; Also ...          98          7.7   \n",
       "3  This is a tale of souls and swords, transcendi...          98          8.4   \n",
       "4  [Metacritic's 2008 Xbox 360 Game of the Year; ...          98          7.9   \n",
       "\n",
       "   year  \n",
       "0  1998  \n",
       "1  2000  \n",
       "2  2008  \n",
       "3  1999  \n",
       "4  2008  "
      ]
     },
     "execution_count": 8,
     "metadata": {},
     "output_type": "execute_result"
    }
   ],
   "source": [
    "df['year'] = df['release_date'].dt.year\n",
    "df.head()"
   ]
  },
  {
   "cell_type": "code",
   "execution_count": 20,
   "id": "a7ac688b",
   "metadata": {},
   "outputs": [
    {
     "data": {
      "text/html": [
       "<div>\n",
       "<style scoped>\n",
       "    .dataframe tbody tr th:only-of-type {\n",
       "        vertical-align: middle;\n",
       "    }\n",
       "\n",
       "    .dataframe tbody tr th {\n",
       "        vertical-align: top;\n",
       "    }\n",
       "\n",
       "    .dataframe thead th {\n",
       "        text-align: right;\n",
       "    }\n",
       "</style>\n",
       "<table border=\"1\" class=\"dataframe\">\n",
       "  <thead>\n",
       "    <tr style=\"text-align: right;\">\n",
       "      <th></th>\n",
       "      <th>user_review</th>\n",
       "      <th>year</th>\n",
       "    </tr>\n",
       "  </thead>\n",
       "  <tbody>\n",
       "    <tr>\n",
       "      <th>0</th>\n",
       "      <td>9.1</td>\n",
       "      <td>1998</td>\n",
       "    </tr>\n",
       "    <tr>\n",
       "      <th>1</th>\n",
       "      <td>7.4</td>\n",
       "      <td>2000</td>\n",
       "    </tr>\n",
       "    <tr>\n",
       "      <th>2</th>\n",
       "      <td>7.7</td>\n",
       "      <td>2008</td>\n",
       "    </tr>\n",
       "    <tr>\n",
       "      <th>3</th>\n",
       "      <td>8.4</td>\n",
       "      <td>1999</td>\n",
       "    </tr>\n",
       "    <tr>\n",
       "      <th>4</th>\n",
       "      <td>7.9</td>\n",
       "      <td>2008</td>\n",
       "    </tr>\n",
       "  </tbody>\n",
       "</table>\n",
       "</div>"
      ],
      "text/plain": [
       "   user_review  year\n",
       "0          9.1  1998\n",
       "1          7.4  2000\n",
       "2          7.7  2008\n",
       "3          8.4  1999\n",
       "4          7.9  2008"
      ]
     },
     "execution_count": 20,
     "metadata": {},
     "output_type": "execute_result"
    }
   ],
   "source": [
    "data = df"
   ]
  },
  {
   "cell_type": "code",
   "execution_count": 10,
   "id": "c9d4be5e",
   "metadata": {},
   "outputs": [],
   "source": [
    "df.drop('name', axis=1, inplace=True)\n",
    "df.drop('platform', axis=1, inplace=True)\n",
    "df.drop('release_date', axis=1, inplace=True)\n",
    "df.drop('summary', axis=1, inplace=True)"
   ]
  },
  {
   "cell_type": "code",
   "execution_count": 12,
   "id": "74bae624",
   "metadata": {},
   "outputs": [],
   "source": [
    "df.drop('meta_score', axis=1, inplace=True)"
   ]
  },
  {
   "cell_type": "code",
   "execution_count": 13,
   "id": "4b6f41a8",
   "metadata": {},
   "outputs": [
    {
     "data": {
      "text/html": [
       "<div>\n",
       "<style scoped>\n",
       "    .dataframe tbody tr th:only-of-type {\n",
       "        vertical-align: middle;\n",
       "    }\n",
       "\n",
       "    .dataframe tbody tr th {\n",
       "        vertical-align: top;\n",
       "    }\n",
       "\n",
       "    .dataframe thead th {\n",
       "        text-align: right;\n",
       "    }\n",
       "</style>\n",
       "<table border=\"1\" class=\"dataframe\">\n",
       "  <thead>\n",
       "    <tr style=\"text-align: right;\">\n",
       "      <th></th>\n",
       "      <th>user_review</th>\n",
       "      <th>year</th>\n",
       "    </tr>\n",
       "  </thead>\n",
       "  <tbody>\n",
       "    <tr>\n",
       "      <th>0</th>\n",
       "      <td>9.1</td>\n",
       "      <td>1998</td>\n",
       "    </tr>\n",
       "    <tr>\n",
       "      <th>1</th>\n",
       "      <td>7.4</td>\n",
       "      <td>2000</td>\n",
       "    </tr>\n",
       "    <tr>\n",
       "      <th>2</th>\n",
       "      <td>7.7</td>\n",
       "      <td>2008</td>\n",
       "    </tr>\n",
       "    <tr>\n",
       "      <th>3</th>\n",
       "      <td>8.4</td>\n",
       "      <td>1999</td>\n",
       "    </tr>\n",
       "    <tr>\n",
       "      <th>4</th>\n",
       "      <td>7.9</td>\n",
       "      <td>2008</td>\n",
       "    </tr>\n",
       "  </tbody>\n",
       "</table>\n",
       "</div>"
      ],
      "text/plain": [
       "   user_review  year\n",
       "0          9.1  1998\n",
       "1          7.4  2000\n",
       "2          7.7  2008\n",
       "3          8.4  1999\n",
       "4          7.9  2008"
      ]
     },
     "execution_count": 13,
     "metadata": {},
     "output_type": "execute_result"
    }
   ],
   "source": [
    "df.head()"
   ]
  },
  {
   "cell_type": "markdown",
   "id": "3fb53bbf",
   "metadata": {},
   "source": [
    "# K-Means"
   ]
  },
  {
   "cell_type": "code",
   "execution_count": 15,
   "id": "35fb2008",
   "metadata": {},
   "outputs": [],
   "source": [
    "import matplotlib.pyplot as plt\n",
    "from matplotlib.colors import ListedColormap\n",
    "from kneed import KneeLocator # detector de joelho/cotovelo da curva\n",
    "import pandas as pd\n",
    "from sklearn.preprocessing import MinMaxScaler\n",
    "from sklearn.cluster import KMeans\n",
    "import plotly as py\n",
    "import plotly.graph_objs as go"
   ]
  },
  {
   "cell_type": "code",
   "execution_count": 16,
   "id": "ffb2382c",
   "metadata": {},
   "outputs": [
    {
     "data": {
      "text/plain": [
       "array([[0.93684211, 0.11538462],\n",
       "       [0.75789474, 0.19230769],\n",
       "       [0.78947368, 0.5       ],\n",
       "       ...,\n",
       "       [0.28421053, 0.76923077],\n",
       "       [0.15789474, 0.65384615],\n",
       "       [0.18947368, 0.53846154]])"
      ]
     },
     "execution_count": 16,
     "metadata": {},
     "output_type": "execute_result"
    }
   ],
   "source": [
    "mms = MinMaxScaler()\n",
    "mms.fit(df)\n",
    "transformed_data = mms.transform(df)\n",
    "transformed_data"
   ]
  },
  {
   "cell_type": "code",
   "execution_count": 17,
   "id": "605b4d24",
   "metadata": {},
   "outputs": [
    {
     "name": "stdout",
     "output_type": "stream",
     "text": [
      "\n",
      "K\tSoma das distâncias quadráticas\n",
      "1 \t 1314.7132534522739\n",
      "2 \t 574.9932925738663\n",
      "3 \t 430.7808603110853\n",
      "4 \t 317.8101212269511\n",
      "5 \t 250.54045218450622\n",
      "6 \t 212.3591799354282\n",
      "7 \t 187.82481732402363\n",
      "8 \t 165.58363276534038\n",
      "9 \t 147.82412465016742\n",
      "10 \t 133.44942633997078\n",
      "11 \t 122.29473965304331\n",
      "12 \t 113.15378854765065\n",
      "13 \t 104.4368749287192\n",
      "14 \t 97.30321048403354\n"
     ]
    },
    {
     "data": {
      "image/png": "[encoded data removed]",
      "text/plain": [
       "<Figure size 432x288 with 1 Axes>"
      ]
     },
     "metadata": {
      "needs_background": "light"
     },
     "output_type": "display_data"
    },
    {
     "name": "stdout",
     "output_type": "stream",
     "text": [
      "O método analítico informa que o joelho/cotovelo está em k = 4\n"
     ]
    }
   ],
   "source": [
    "soma_distancias_quadraticas = []\n",
    "K = range(1, 15)\n",
    "print('\\nK\\tSoma das distâncias quadráticas')\n",
    "for k in K:\n",
    "    km = KMeans(n_clusters=k)\n",
    "    km = km.fit(transformed_data)\n",
    "    soma_distancias_quadraticas.append(km.inertia_)\n",
    "    print(k, '\\t', soma_distancias_quadraticas[k-1])\n",
    "plt.plot(K, soma_distancias_quadraticas, 'bx-')\n",
    "plt.xlabel('K')\n",
    "plt.ylabel('Soma distâncias quadráticas')\n",
    "plt.title('Método do joelho/cotovelo para achar o valor ótimo de k')\n",
    "plt.show()\n",
    "kl = KneeLocator(K, soma_distancias_quadraticas, curve=\"convex\", direction=\"decreasing\")\n",
    "print('O método analítico informa que o joelho/cotovelo está em k =', kl.elbow)"
   ]
  },
  {
   "cell_type": "code",
   "execution_count": 18,
   "id": "5fcda0eb",
   "metadata": {},
   "outputs": [
    {
     "data": {
      "image/png": "[encoded data removed]",
      "text/plain": [
       "<Figure size 432x288 with 1 Axes>"
      ]
     },
     "metadata": {
      "needs_background": "light"
     },
     "output_type": "display_data"
    }
   ],
   "source": [
    "k = kl.elbow\n",
    "km = KMeans(n_clusters=k, random_state=12)\n",
    "km = km.fit(transformed_data)\n",
    "\n",
    "predictions = km.predict(transformed_data)\n",
    "plt.scatter(transformed_data[:, 0], transformed_data[:, 1], c=predictions, cmap='viridis')\n",
    "centroides = km.cluster_centers_\n",
    "plt.scatter(centroides[:, 0], centroides[:, 1], c='black', s=200, alpha=0.5)\n",
    "plt.show()"
   ]
  },
  {
   "cell_type": "code",
   "execution_count": 25,
   "id": "47507e1e",
   "metadata": {},
   "outputs": [
    {
     "name": "stderr",
     "output_type": "stream",
     "text": [
      "C:\\Users\\LUCASP~1\\AppData\\Local\\Temp/ipykernel_20004/2418741762.py:6: DeprecationWarning: `np.float` is a deprecated alias for the builtin `float`. To silence this warning, use `float` by itself. Doing this will not modify any behavior and is safe. If you specifically wanted the numpy scalar type, use `np.float64` here.\n",
      "Deprecated in NumPy 1.20; for more details and guidance: https://numpy.org/devdocs/release/1.20.0-notes.html#deprecations\n",
      "  df['user_review'] = df['user_review'].astype(np.float)\n"
     ]
    }
   ],
   "source": [
    "df = pd.read_csv('../all_games.csv', encoding='utf-8')\n",
    "\n",
    "df[df['user_review']=='tbd']\n",
    "\n",
    "df = df.drop(df[df['user_review'] == 'tbd'].index)\n",
    "df['user_review'] = df['user_review'].astype(np.float)\n",
    "df['release_date'] = pd.to_datetime(df['release_date'])\n",
    "df['year'] = df['release_date'].dt.year"
   ]
  },
  {
   "cell_type": "code",
   "execution_count": 26,
   "id": "181b5e3f",
   "metadata": {},
   "outputs": [
    {
     "data": {
      "text/html": [
       "<div>\n",
       "<style scoped>\n",
       "    .dataframe tbody tr th:only-of-type {\n",
       "        vertical-align: middle;\n",
       "    }\n",
       "\n",
       "    .dataframe tbody tr th {\n",
       "        vertical-align: top;\n",
       "    }\n",
       "\n",
       "    .dataframe thead th {\n",
       "        text-align: right;\n",
       "    }\n",
       "</style>\n",
       "<table border=\"1\" class=\"dataframe\">\n",
       "  <thead>\n",
       "    <tr style=\"text-align: right;\">\n",
       "      <th></th>\n",
       "      <th>name</th>\n",
       "      <th>platform</th>\n",
       "      <th>release_date</th>\n",
       "      <th>summary</th>\n",
       "      <th>meta_score</th>\n",
       "      <th>user_review</th>\n",
       "      <th>year</th>\n",
       "    </tr>\n",
       "  </thead>\n",
       "  <tbody>\n",
       "    <tr>\n",
       "      <th>0</th>\n",
       "      <td>The Legend of Zelda: Ocarina of Time</td>\n",
       "      <td>Nintendo 64</td>\n",
       "      <td>1998-11-23</td>\n",
       "      <td>As a young boy, Link is tricked by Ganondorf, ...</td>\n",
       "      <td>99</td>\n",
       "      <td>9.1</td>\n",
       "      <td>1998</td>\n",
       "    </tr>\n",
       "    <tr>\n",
       "      <th>1</th>\n",
       "      <td>Tony Hawk's Pro Skater 2</td>\n",
       "      <td>PlayStation</td>\n",
       "      <td>2000-09-20</td>\n",
       "      <td>As most major publishers' development efforts ...</td>\n",
       "      <td>98</td>\n",
       "      <td>7.4</td>\n",
       "      <td>2000</td>\n",
       "    </tr>\n",
       "    <tr>\n",
       "      <th>2</th>\n",
       "      <td>Grand Theft Auto IV</td>\n",
       "      <td>PlayStation 3</td>\n",
       "      <td>2008-04-29</td>\n",
       "      <td>[Metacritic's 2008 PS3 Game of the Year; Also ...</td>\n",
       "      <td>98</td>\n",
       "      <td>7.7</td>\n",
       "      <td>2008</td>\n",
       "    </tr>\n",
       "    <tr>\n",
       "      <th>3</th>\n",
       "      <td>SoulCalibur</td>\n",
       "      <td>Dreamcast</td>\n",
       "      <td>1999-09-08</td>\n",
       "      <td>This is a tale of souls and swords, transcendi...</td>\n",
       "      <td>98</td>\n",
       "      <td>8.4</td>\n",
       "      <td>1999</td>\n",
       "    </tr>\n",
       "    <tr>\n",
       "      <th>4</th>\n",
       "      <td>Grand Theft Auto IV</td>\n",
       "      <td>Xbox 360</td>\n",
       "      <td>2008-04-29</td>\n",
       "      <td>[Metacritic's 2008 Xbox 360 Game of the Year; ...</td>\n",
       "      <td>98</td>\n",
       "      <td>7.9</td>\n",
       "      <td>2008</td>\n",
       "    </tr>\n",
       "  </tbody>\n",
       "</table>\n",
       "</div>"
      ],
      "text/plain": [
       "                                   name        platform release_date  \\\n",
       "0  The Legend of Zelda: Ocarina of Time     Nintendo 64   1998-11-23   \n",
       "1              Tony Hawk's Pro Skater 2     PlayStation   2000-09-20   \n",
       "2                   Grand Theft Auto IV   PlayStation 3   2008-04-29   \n",
       "3                           SoulCalibur       Dreamcast   1999-09-08   \n",
       "4                   Grand Theft Auto IV        Xbox 360   2008-04-29   \n",
       "\n",
       "                                             summary  meta_score  user_review  \\\n",
       "0  As a young boy, Link is tricked by Ganondorf, ...          99          9.1   \n",
       "1  As most major publishers' development efforts ...          98          7.4   \n",
       "2  [Metacritic's 2008 PS3 Game of the Year; Also ...          98          7.7   \n",
       "3  This is a tale of souls and swords, transcendi...          98          8.4   \n",
       "4  [Metacritic's 2008 Xbox 360 Game of the Year; ...          98          7.9   \n",
       "\n",
       "   year  \n",
       "0  1998  \n",
       "1  2000  \n",
       "2  2008  \n",
       "3  1999  \n",
       "4  2008  "
      ]
     },
     "execution_count": 26,
     "metadata": {},
     "output_type": "execute_result"
    }
   ],
   "source": [
    "df.head()"
   ]
  },
  {
   "cell_type": "code",
   "execution_count": 27,
   "id": "60f764d9",
   "metadata": {},
   "outputs": [],
   "source": [
    "df.drop('name', axis=1, inplace=True)\n",
    "df.drop('platform', axis=1, inplace=True)\n",
    "df.drop('release_date', axis=1, inplace=True)\n",
    "df.drop('summary', axis=1, inplace=True)\n",
    "df.drop('user_review', axis=1, inplace=True)"
   ]
  },
  {
   "cell_type": "code",
   "execution_count": 28,
   "id": "1d95824f",
   "metadata": {},
   "outputs": [
    {
     "data": {
      "text/html": [
       "<div>\n",
       "<style scoped>\n",
       "    .dataframe tbody tr th:only-of-type {\n",
       "        vertical-align: middle;\n",
       "    }\n",
       "\n",
       "    .dataframe tbody tr th {\n",
       "        vertical-align: top;\n",
       "    }\n",
       "\n",
       "    .dataframe thead th {\n",
       "        text-align: right;\n",
       "    }\n",
       "</style>\n",
       "<table border=\"1\" class=\"dataframe\">\n",
       "  <thead>\n",
       "    <tr style=\"text-align: right;\">\n",
       "      <th></th>\n",
       "      <th>meta_score</th>\n",
       "      <th>year</th>\n",
       "    </tr>\n",
       "  </thead>\n",
       "  <tbody>\n",
       "    <tr>\n",
       "      <th>0</th>\n",
       "      <td>99</td>\n",
       "      <td>1998</td>\n",
       "    </tr>\n",
       "    <tr>\n",
       "      <th>1</th>\n",
       "      <td>98</td>\n",
       "      <td>2000</td>\n",
       "    </tr>\n",
       "    <tr>\n",
       "      <th>2</th>\n",
       "      <td>98</td>\n",
       "      <td>2008</td>\n",
       "    </tr>\n",
       "    <tr>\n",
       "      <th>3</th>\n",
       "      <td>98</td>\n",
       "      <td>1999</td>\n",
       "    </tr>\n",
       "    <tr>\n",
       "      <th>4</th>\n",
       "      <td>98</td>\n",
       "      <td>2008</td>\n",
       "    </tr>\n",
       "  </tbody>\n",
       "</table>\n",
       "</div>"
      ],
      "text/plain": [
       "   meta_score  year\n",
       "0          99  1998\n",
       "1          98  2000\n",
       "2          98  2008\n",
       "3          98  1999\n",
       "4          98  2008"
      ]
     },
     "execution_count": 28,
     "metadata": {},
     "output_type": "execute_result"
    }
   ],
   "source": [
    "df.head()"
   ]
  },
  {
   "cell_type": "code",
   "execution_count": 29,
   "id": "f3bc30eb",
   "metadata": {},
   "outputs": [
    {
     "data": {
      "text/plain": [
       "array([[1.        , 0.11538462],\n",
       "       [0.98734177, 0.19230769],\n",
       "       [0.98734177, 0.5       ],\n",
       "       ...,\n",
       "       [0.01265823, 0.76923077],\n",
       "       [0.        , 0.65384615],\n",
       "       [0.        , 0.53846154]])"
      ]
     },
     "execution_count": 29,
     "metadata": {},
     "output_type": "execute_result"
    }
   ],
   "source": [
    "mms = MinMaxScaler()\n",
    "mms.fit(df)\n",
    "transformed_data = mms.transform(df)\n",
    "transformed_data"
   ]
  },
  {
   "cell_type": "code",
   "execution_count": 30,
   "id": "98741fc4",
   "metadata": {},
   "outputs": [
    {
     "name": "stdout",
     "output_type": "stream",
     "text": [
      "\n",
      "K\tSoma das distâncias quadráticas\n",
      "1 \t 1378.3528210519678\n",
      "2 \t 653.2501556841846\n",
      "3 \t 463.478957744029\n",
      "4 \t 356.2606373048375\n",
      "5 \t 286.3187932713258\n",
      "6 \t 246.6520678665398\n",
      "7 \t 217.25937354573674\n",
      "8 \t 190.66608776912364\n",
      "9 \t 168.47318810637944\n",
      "10 \t 154.11869275764937\n",
      "11 \t 141.8084750396549\n",
      "12 \t 131.0822638120529\n",
      "13 \t 122.91479993949689\n",
      "14 \t 113.72835746249211\n"
     ]
    },
    {
     "data": {
      "image/png": "[encoded data removed]",
      "text/plain": [
       "<Figure size 432x288 with 1 Axes>"
      ]
     },
     "metadata": {
      "needs_background": "light"
     },
     "output_type": "display_data"
    },
    {
     "name": "stdout",
     "output_type": "stream",
     "text": [
      "O método analítico informa que o joelho/cotovelo está em k = 4\n"
     ]
    }
   ],
   "source": [
    "soma_distancias_quadraticas = []\n",
    "K = range(1, 15)\n",
    "print('\\nK\\tSoma das distâncias quadráticas')\n",
    "for k in K:\n",
    "    km = KMeans(n_clusters=k)\n",
    "    km = km.fit(transformed_data)\n",
    "    soma_distancias_quadraticas.append(km.inertia_)\n",
    "    print(k, '\\t', soma_distancias_quadraticas[k-1])\n",
    "plt.plot(K, soma_distancias_quadraticas, 'bx-')\n",
    "plt.xlabel('K')\n",
    "plt.ylabel('Soma distâncias quadráticas')\n",
    "plt.title('Método do joelho/cotovelo para achar o valor ótimo de k')\n",
    "plt.show()\n",
    "kl = KneeLocator(K, soma_distancias_quadraticas, curve=\"convex\", direction=\"decreasing\")\n",
    "print('O método analítico informa que o joelho/cotovelo está em k =', kl.elbow)"
   ]
  },
  {
   "cell_type": "code",
   "execution_count": 31,
   "id": "f60cc5e6",
   "metadata": {},
   "outputs": [
    {
     "data": {
      "image/png": "[encoded data removed]",
      "text/plain": [
       "<Figure size 432x288 with 1 Axes>"
      ]
     },
     "metadata": {
      "needs_background": "light"
     },
     "output_type": "display_data"
    }
   ],
   "source": [
    "k = kl.elbow\n",
    "km = KMeans(n_clusters=k, random_state=12)\n",
    "km = km.fit(transformed_data)\n",
    "\n",
    "predictions = km.predict(transformed_data)\n",
    "plt.scatter(transformed_data[:, 0], transformed_data[:, 1], c=predictions, cmap='viridis')\n",
    "centroides = km.cluster_centers_\n",
    "plt.scatter(centroides[:, 0], centroides[:, 1], c='black', s=200, alpha=0.5)\n",
    "plt.show()"
   ]
  }
 ],
 "metadata": {
  "kernelspec": {
   "display_name": "Python 3 (ipykernel)",
   "language": "python",
   "name": "python3"
  },
  "language_info": {
   "codemirror_mode": {
    "name": "ipython",
    "version": 3
   },
   "file_extension": ".py",
   "mimetype": "text/x-python",
   "name": "python",
   "nbconvert_exporter": "python",
   "pygments_lexer": "ipython3",
   "version": "3.9.7"
  }
 },
 "nbformat": 4,
 "nbformat_minor": 5
}
